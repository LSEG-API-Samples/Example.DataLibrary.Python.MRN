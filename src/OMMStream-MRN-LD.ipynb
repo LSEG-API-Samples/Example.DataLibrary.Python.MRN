{
 "cells": [
  {
   "cell_type": "markdown",
   "metadata": {},
   "source": [
    "# Machine Readable News Example with LSEG Data Library for Python\n",
    "\n",
    "- Last update: April 2025\n",
    "\n",
    "This example shows how developers may use the [LSEG Data Library for Python](https://developers.lseg.com/en/api-catalog/lseg-data-platform/lseg-data-library-for-python) Delivery layer feature to subscribe to the Machine Readable News (MRN) from LSEG Real-Time Distribution System (RTDS) and LSEG Real-Time Optimized (RTO). The example just connects to LSEG Real-Time platform via a WebSocket connection, then subscribes and displays MRN News data in a console. "
   ]
  },
  {
   "cell_type": "markdown",
   "metadata": {},
   "source": [
    "#### Machine Readable News Overview\n",
    "\n",
    "Machine Readable News (MRN) is an advanced service for automating the consumption and systematic analysis of news. It delivers deep historical news archives, ultra-low latency structured news and news analytics directly to your applications. This enables algorithms to exploit the power of news to seize opportunities, capitalize on market inefficiencies, and manage event risk.\n",
    "\n",
    "#### MRN Data model\n",
    "\n",
    "MRN is published over the Real-Time platform using an Open Message Model (OMM) envelope in News Text Analytics domain messages. The Real-time News content set is made available over MRN_STORY RIC. The content data is contained in a FRAGMENT field that has been compressed and potentially fragmented across multiple messages, to reduce bandwidth and message size.\n",
    "\n",
    "A FRAGMENT field has a different data type based on a connection type:\n",
    "\n",
    "- RSSL connection (RTSDK [C++](https://developers.lseg.com/en/api-catalog/refinitiv-real-time-opnsrc/rt-sdk-cc)/[Java](https://developers.lseg.com/en/api-catalog/refinitiv-real-time-opnsrc/rt-sdk-java)/[C#](https://developers.lseg.com/en/api-catalog/refinitiv-real-time-opnsrc/rt-sdk-cc)): BUFFER type\n",
    "- WebSocket connection: Base64 ASCII string\n",
    "\n",
    "The data goes through the following series of transformations:\n",
    "\n",
    "1. The core content data is a UTF-8 JSON string\n",
    "2. This JSON string is compressed using gzip\n",
    "3. The compressed JSON is split into several fragments (BUFFER or Base64 ASCII string) which each fit into a single update message\n",
    "4. The data fragments are added to an update message as the FRAGMENT field value in a FieldList envelope\n",
    "\n",
    "<img src=\"../images/mrn_process.png\"/>\n",
    "\n",
    "Therefore, to parse the core content data, the application will need to reverse this process. The WebSocket application also needs to convert a received Base64 string in a FRAGMENT field to bytes data before further process this field. This application uses Python [base64](https://docs.python.org/3/library/base64.html) and [zlib](https://docs.python.org/3/library/zlib.html) modules to decode Base64 string and decompress JSON string.\n",
    "\n",
    "If you are not familiar with MRN concept, please visit the following resources which will give you a full explanation of the MRN data model and implementation logic:\n",
    "\n",
    "- [Webinar Recording: Introduction to Machine Readable News](https://developers.lseg.com/news#news-accordion-nid-12045)\n",
    "- [Introduction to Machine Readable News (MRN) with Enterprise Message API (EMA)](https://developers.lseg.com/en/article-catalog/article/introduction-machine-readable-news-mrn-elektron-message-api-ema).\n",
    "- [MRN Data Models and the Real-Time SDK Implementation Guide](https://developers.lseg.com/en/api-catalog/refinitiv-real-time-opnsrc/rt-sdk-java/documentation#mrn-data-models-implementation-guide).\n",
    "- [Introduction to Machine Readable News with WebSocket API](https://developers.lseg.com/en/article-catalog/article/introduction-machine-readable-news-elektron-websocket-api-refinitiv)."
   ]
  },
  {
   "cell_type": "code",
   "execution_count": 1,
   "metadata": {},
   "outputs": [],
   "source": [
    "# Import all required library\n",
    "\n",
    "import sys\n",
    "import datetime\n",
    "import time\n",
    "import json\n",
    "import base64\n",
    "import zlib\n",
    "import binascii\n",
    "import lseg.data as ld\n",
    "from lseg.data.delivery import omm_stream"
   ]
  },
  {
   "cell_type": "code",
   "execution_count": 2,
   "metadata": {},
   "outputs": [],
   "source": [
    "# variables that related to news \n",
    "_news_envelopes = []\n",
    "RIC_CODE = 'MRN_STORY'\n",
    "DOMAIN = 'NewsTextAnalytics'\n",
    "SERVICE = 'ELEKTRON_DD'"
   ]
  },
  {
   "cell_type": "markdown",
   "metadata": {},
   "source": [
    "#### Methods to display Refresh, Status messages"
   ]
  },
  {
   "cell_type": "code",
   "execution_count": null,
   "metadata": {},
   "outputs": [],
   "source": [
    "def display_event(eventType, event):\n",
    "    \"\"\"Retrieve data: Callback function to display data or status events. \"\"\"\n",
    "    current_time = datetime.datetime.now().time()\n",
    "    print('----------------------------------------------------------')\n",
    "    print(f'>>> {eventType} event received at {current_time}')\n",
    "    print(json.dumps(event, indent=2))\n",
    "    return"
   ]
  },
  {
   "cell_type": "markdown",
   "metadata": {},
   "source": [
    "### Method to assemble and display MRN news data from the Update message"
   ]
  },
  {
   "cell_type": "code",
   "execution_count": null,
   "metadata": {},
   "outputs": [],
   "source": [
    "def process_mrn_update(event):  \n",
    "        \"\"\"Process MRN Update messages.\"\"\"\n",
    "        message_json = event\n",
    "        fields_data = message_json['Fields']\n",
    "\n",
    "        # declare variables\n",
    "        tot_size = 0\n",
    "        guid = None\n",
    "\n",
    "        try:\n",
    "            # Get data for all required fields\n",
    "            fragment = base64.b64decode(fields_data['FRAGMENT'])\n",
    "            frag_num = int(fields_data['FRAG_NUM'])\n",
    "            guid = fields_data['GUID']\n",
    "            mrn_src = fields_data['MRN_SRC']\n",
    "\n",
    "            #print(\"GUID  = %s\" % guid)\n",
    "            #print(\"FRAG_NUM = %d\" % frag_num)\n",
    "            #print(\"MRN_SRC = %s\" % mrn_src)\n",
    "\n",
    "            if frag_num > 1:  # We are now processing more than one part of an envelope - retrieve the current details\n",
    "                guid_index = next((index for (index, d) in enumerate(_news_envelopes) if d['GUID'] == guid), None)\n",
    "                envelop = _news_envelopes[guid_index]\n",
    "                if envelop and envelop['data']['MRN_SRC'] == mrn_src and frag_num == envelop['data']['FRAG_NUM'] + 1:\n",
    "                    print(f'process multiple fragments for guid {envelop[\"GUID\"]}')\n",
    "\n",
    "                    #print(f'fragment before merge = {len(envelop[\"data\"][\"FRAGMENT\"])}')\n",
    "                    # Merge incoming data to existing news envelop and getting FRAGMENT and TOT_SIZE data to local variables\n",
    "                    fragment = envelop['data']['FRAGMENT'] = envelop['data']['FRAGMENT'] + fragment\n",
    "                    envelop['data']['FRAG_NUM'] = frag_num\n",
    "                    tot_size = envelop['data']['tot_size']\n",
    "                    print(f'TOT_SIZE = {tot_size}')\n",
    "                    print(f'Current FRAGMENT length = {len(fragment)}')\n",
    "\n",
    "                    # The multiple fragments news are not completed, waiting.\n",
    "                    if tot_size != len(fragment):\n",
    "                        return None\n",
    "                    # The multiple fragments news are completed, delete associate GUID envelop\n",
    "                    elif tot_size == len(fragment):\n",
    "                        del _news_envelopes[guid_index]\n",
    "                else:\n",
    "                    print(f'Error: Cannot find fragment for GUID {guid} with matching FRAG_NUM or MRN_SRC {mrn_src}')\n",
    "                    return None\n",
    "            else:  # FRAG_NUM = 1 The first fragment\n",
    "                tot_size = int(fields_data['TOT_SIZE'])\n",
    "                print(f'FRAGMENT length = {len(fragment)}')\n",
    "                # The fragment news is not completed, waiting and add this news data to envelop object.\n",
    "                if tot_size != len(fragment):\n",
    "                    print(f'Add new fragments to news envelop for guid {guid}')\n",
    "                    _news_envelopes.append({  # the envelop object is a Python dictionary with GUID as a key and other fields are data\n",
    "                        'GUID': guid,\n",
    "                        'data': {\n",
    "                            'FRAGMENT': fragment,\n",
    "                            'MRN_SRC': mrn_src,\n",
    "                            'FRAG_NUM': frag_num,\n",
    "                            \"tot_size\": tot_size\n",
    "                        }\n",
    "                    })\n",
    "                    return None\n",
    "\n",
    "            # News Fragment(s) completed, decompress and print data as JSON to console\n",
    "            if tot_size == len(fragment):\n",
    "                print(f'decompress News FRAGMENT(s) for GUID {guid}')\n",
    "                decompressed_data = zlib.decompress(fragment, zlib.MAX_WBITS | 32)\n",
    "                print(f'News = {json.loads(decompressed_data)}')\n",
    "\n",
    "        except KeyError as keyerror:\n",
    "            print('KeyError exception: ', keyerror)\n",
    "        except IndexError as indexerror:\n",
    "            print('IndexError exception: ', indexerror)\n",
    "        except binascii.Error as b64error:\n",
    "            print('base64 decoding exception:', b64error)\n",
    "        except zlib.error as error:\n",
    "            print('zlib decompressing exception: ', error)\n",
    "        # Some console environments like Windows may encounter this unicode display as a limitation of OS\n",
    "        except UnicodeEncodeError as encodeerror:\n",
    "            print(f'UnicodeEncodeError exception. Cannot decode unicode character for {guid} in this environment: ', encodeerror)\n",
    "        except Exception as specific_error:\n",
    "            print(f'exception: str{specific_error}', sys.exc_info()[0])"
   ]
  },
  {
   "cell_type": "markdown",
   "metadata": {},
   "source": [
    "#### Init and Open LD Session"
   ]
  },
  {
   "cell_type": "code",
   "execution_count": null,
   "metadata": {},
   "outputs": [],
   "source": [
    "try:\n",
    "    # Open the data session\n",
    "    ld.open_session()\n",
    "    #ld.open_session(config_name='./lseg-data.devrel.config.json')\n",
    "except Exception as ex:\n",
    "    print(\"Error in open_session: \" + str(ex))\n",
    "    sys.exit(1) "
   ]
  },
  {
   "cell_type": "markdown",
   "metadata": {},
   "source": [
    "#### Create an OMM stream and register event callbacks"
   ]
  },
  {
   "cell_type": "code",
   "execution_count": null,
   "metadata": {},
   "outputs": [
    {
     "data": {
      "text/plain": [
       "<lseg.data.delivery.omm_stream.OMMStream object at 0x1f5f5ce6ad0>"
      ]
     },
     "execution_count": 6,
     "metadata": {},
     "output_type": "execute_result"
    }
   ],
   "source": [
    "stream = omm_stream.Definition(\n",
    "        name = RIC_CODE, \n",
    "        domain = DOMAIN,\n",
    "        service = SERVICE).get_stream()\n",
    "\n",
    "# Define the event callbacks\n",
    "# Refresh - the first full image we get back from the server\n",
    "stream.on_refresh(lambda event, item_stream  : display_event('Refresh', event))\n",
    "\n",
    "# Update - as and when field values change, we receive updates from the server and process the MRN data\n",
    "stream.on_update(lambda event, item_stream : process_mrn_update(event))\n",
    "\n",
    "# Status - if data goes stale or item closes, we get a status message\n",
    "stream.on_status(lambda event, item_stream : display_event('Status', event))\n",
    "\n",
    "# Other errors\n",
    "stream.on_error(lambda event, item_stream : display_event('Error', event))"
   ]
  },
  {
   "cell_type": "markdown",
   "metadata": {},
   "source": [
    "#### Open the stream"
   ]
  },
  {
   "cell_type": "code",
   "execution_count": 7,
   "metadata": {},
   "outputs": [
    {
     "name": "stdout",
     "output_type": "stream",
     "text": [
      "----------------------------------------------------------\n",
      ">>> Refresh event received at 14:25:14.019221\n",
      "{\n",
      "  \"ID\": 5,\n",
      "  \"Type\": \"Refresh\",\n",
      "  \"Domain\": \"NewsTextAnalytics\",\n",
      "  \"Key\": {\n",
      "    \"Service\": \"ELEKTRON_DD\",\n",
      "    \"Name\": \"MRN_STORY\"\n",
      "  },\n",
      "  \"State\": {\n",
      "    \"Stream\": \"Open\",\n",
      "    \"Data\": \"Ok\"\n",
      "  },\n",
      "  \"Qos\": {\n",
      "    \"Timeliness\": \"Realtime\",\n",
      "    \"Rate\": \"JitConflated\"\n",
      "  },\n",
      "  \"PermData\": \"AwEBEAAc\",\n",
      "  \"SeqNumber\": 62830,\n",
      "  \"Fields\": {\n",
      "    \"PROD_PERM\": 10001,\n",
      "    \"ACTIV_DATE\": \"2025-01-04\",\n",
      "    \"RECORDTYPE\": 30,\n",
      "    \"RDN_EXCHD2\": \"MRN\",\n",
      "    \"TIMACT_MS\": 65276147,\n",
      "    \"GUID\": null,\n",
      "    \"CONTEXT_ID\": 3752,\n",
      "    \"DDS_DSO_ID\": 4232,\n",
      "    \"SPS_SP_RIC\": \".[SPSML2L1\",\n",
      "    \"MRN_V_MAJ\": \"2\",\n",
      "    \"MRN_TYPE\": \"STORY\",\n",
      "    \"MDU_V_MIN\": null,\n",
      "    \"MDU_DATE\": null,\n",
      "    \"MRN_V_MIN\": \"10\",\n",
      "    \"MRN_SRC\": \"HK1_PRD_A\",\n",
      "    \"MDUTM_NS\": null,\n",
      "    \"FRAG_NUM\": 1,\n",
      "    \"TOT_SIZE\": 0,\n",
      "    \"FRAGMENT\": null\n",
      "  }\n",
      "}\n"
     ]
    },
    {
     "data": {
      "text/plain": [
       "<OpenState.Opened: 'Opened'>"
      ]
     },
     "execution_count": 7,
     "metadata": {},
     "output_type": "execute_result"
    },
    {
     "name": "stdout",
     "output_type": "stream",
     "text": [
      "FRAGMENT length = 604\n",
      "decompress News FRAGMENT(s) for GUID BSE7csqvP_2501172gHWMBzeSFWNvZrZzPMMCk4fOVyYtqUZ796SIp\n",
      "News = {'altId': 'nBSE7csqvP', 'audiences': ['NP:BSEA', 'NP:BSEN', 'NP:CNR', 'NP:CNRA'], 'body': '\\nPls refer enclosed file\\n\\nhttps://newsfile.refinitiv.com/getnewsfile/v1/story?guid=urn:newsml:reuters.com:20250117:nBSE8mWH9K\\n\\n', 'firstCreated': '2025-01-17T07:25:12.965Z', 'headline': 'SWARAJ ENGINES LTD. - 500407 - Board Meeting Outcome for Outcome Of The Board Meeting', 'id': 'BSE7csqvP_2501172gHWMBzeSFWNvZrZzPMMCk4fOVyYtqUZ796SIp', 'instancesOf': [], 'language': 'en', 'messageType': 2, 'mimeType': 'text/plain', 'provider': 'NS:BSE', 'pubStatus': 'stat:usable', 'subjects': ['B:1301', 'B:255', 'B:69', 'B:71', 'B:73', 'G:1', 'G:5B', 'G:CH', 'G:K', 'G:S', 'M:1QD', 'M:1WJ', 'M:1WK', 'M:2CM', 'M:2CQ', 'M:2CU', 'M:2CX', 'M:2DZ', 'M:32', 'M:3H', 'M:NU', 'M:Z', 'R:SWAR.NS', 'N2:ASIA', 'N2:ASXPAC', 'N2:AUTO', 'N2:AUTPT', 'N2:AUTPWR', 'N2:CMPNY', 'N2:CONPR', 'N2:CONPS', 'N2:CYCS', 'N2:CYCS08', 'N2:EMRG', 'N2:IN', 'N2:LEN', 'N2:MTPDF', 'N2:NEWR', 'N2:PUBL', 'N2:REG', 'N2:SASIA', 'P:4295873972'], 'takeSequence': 1, 'urgency': 3, 'versionCreated': '2025-01-17T07:25:12.965Z'}\n",
      "FRAGMENT length = 1561\n",
      "decompress News FRAGMENT(s) for GUID KjhSWj____2501172W7OATnSSLZNRh0QbsID61SeOog70ZpwlwsO5p\n",
      "News = {'altId': 'nKjhSWj', 'audiences': ['NP:KYDO', 'NP:KYO', 'NP:RJN'], 'body': '\\n\\u3000全国で特殊詐欺や、交流サイト（ＳＮＳ）を介した投資詐欺やロマンス詐欺が深刻化していることを受け、ゆうちょ銀行と警察庁は１７日、協定を結び、詐欺被害や不正利用が疑われる口座情報を管轄の都道府県警に直接連絡する取り組みを始めると発表した。金融機関から全国の警察に直接連絡する体制構築は初めて。警察庁は全国に支店を置く他の大手銀行とも同様の連携を進める方針。\\n\\n\\u3000金融機関は不正が疑われる取引を検知した場合、犯罪収益移転防止法や金融庁の指針に基づき、１カ月をめどに金融庁に届け出をし、その後警察庁に連絡している。今回の協定で、ゆうちょ銀行は不正の疑いを速やかに警察に報告し、被害の拡大防止や迅速な捜査につなげる。\\n\\n\\u3000同行は不正な取引を検知するモニタリングシステムにより口座の動きを常時チェックしている。詐欺被害とみられる送金や、詐取金の振り込みなど、不正が疑われる取引は毎日検知されており、被害者への連絡や口座凍結などの措置を講じている。利用者が詐欺と認識していないケースも多く、警察と連携して理解を促す狙いもある。\\n\\n\\u3000警察庁によると、昨年１～１１月の特殊詐欺やＳＮＳ型の投資・ロマンス詐欺の合計被害額は１７００億円超に上る。警察庁と金融庁は昨年８月、金融機関へ不正利用の防止や検知の強化とともに、詐欺の恐れが高い取引について、警察へ迅速な情報共有を求めるなど、対策を要請していた。\\n\\n', 'firstCreated': '2025-01-17T07:25:17.717Z', 'headline': '詐欺疑い口座情報迅速連絡\\u3000ゆうちょと警察庁が初協定', 'id': 'KjhSWj____2501172W7OATnSSLZNRh0QbsID61SeOog70ZpwlwsO5p', 'instancesOf': [], 'language': 'ja', 'messageType': 2, 'mimeType': 'text/plain', 'provider': 'NS:KYDO', 'pubStatus': 'stat:usable', 'subjects': ['B:125', 'B:126', 'B:127', 'B:128', 'B:1616', 'B:195', 'B:234', 'B:239', 'B:242', 'B:261', 'B:262', 'B:34', 'B:43', 'B:49', 'E:5', 'G:41', 'G:6', 'G:K', 'G:S', 'M:1QC', 'M:1QD', 'M:1WN', 'M:2CX', 'M:2DZ', 'M:A', 'M:E7', 'M:ES', 'M:N', 'M:Z', 'R:7182.T', 'N2:ASIA', 'N2:ASXPAC', 'N2:BISV', 'N2:BISV08', 'N2:BNKCOM', 'N2:BNKS', 'N2:BSUP', 'N2:BSVC', 'N2:CLJ', 'N2:CMPNY', 'N2:CMSS', 'N2:CMSS08', 'N2:CRIM', 'N2:EASIA', 'N2:ECON', 'N2:FINS', 'N2:FINS08', 'N2:GEN', 'N2:GLOFIN', 'N2:INDS', 'N2:INDS08', 'N2:ISER', 'N2:ISER08', 'N2:JP', 'N2:LJA', 'N2:MCE', 'N2:POL', 'N2:PUBL', 'N2:SRVCS', 'P:4297836741'], 'takeSequence': 1, 'urgency': 3, 'versionCreated': '2025-01-17T07:25:17.717Z'}\n",
      "FRAGMENT length = 844\n",
      "decompress News FRAGMENT(s) for GUID AAS6vlfg3_2501172o3YbyTMyO5p3P1V3BPILKUA0/V5yEe4dYuphH\n",
      "News = {'altId': 'nAAS6vlfg3', 'audiences': ['NP:AASTKA', 'NP:AASTKF'], 'body': '国务院国资委发布信息显示，2024年，中央企业资产总额突破90万亿元人民币(下同)，按年增长5.9%；全年增加值10.6万亿元，利润总额2.6万亿元，上缴税费2.6万亿元，均实现稳定增长。\\n\\n数据显示，2024年，中央企业全员劳动生产率持续提高，每人达到81.2万元；全年研发经费投入1.1万亿元，连续三年超过万亿元；完成固定资产投资(包括含房地产)5.3万亿元，按年增长3.9%；战略性新兴产业完成投资2.7万亿元，按年增长21.8%。(ta/w)~\\n\\n阿思达克财经新闻\\n网址: www.aastocks.com \\n\\n(c) Copyright AAStocks.com Limited 2025', 'firstCreated': '2025-01-17T07:25:18.044Z', 'headline': '去年央企资产总额突破90万亿人币 按年增5.9%', 'id': 'AAS6vlfg3_2501172o3YbyTMyO5p3P1V3BPILKUA0/V5yEe4dYuphH', 'instancesOf': [], 'language': 'zh', 'messageType': 2, 'mimeType': 'text/plain', 'provider': 'NS:AAFN', 'pubStatus': 'stat:usable', 'subjects': ['E:5', 'G:1', 'G:6', 'G:B1', 'G:K', 'G:S', 'N2:ASIA', 'N2:ASXPAC', 'N2:CN', 'N2:EASIA', 'N2:ECON', 'N2:EMRG', 'N2:LZH', 'N2:LZS', 'N2:MCE'], 'takeSequence': 1, 'urgency': 3, 'versionCreated': '2025-01-17T07:25:18.044Z'}\n",
      "FRAGMENT length = 912\n",
      "decompress News FRAGMENT(s) for GUID AAS9nYqS2_25011726Js2AS8Bdf/usz4aAiIRzBrAvhsuGqeQ6H/UI\n",
      "News = {'altId': 'nAAS9nYqS2', 'audiences': ['NP:AASTKA'], 'body': '外媒引述消息报道，三星电子研究与OpenAI建立「开放式合作夥伴关系」，为产品和服务集成人工智能(AI)功能，如点击搜索、实时翻译及生成壁纸等，尤其是在电视产品方面。\\n\\n据悉，三星拟借助OpenAI的文本生成功能「ChatGPT」、图像创建功能「DALL-E」、语音识别功能「Whisper」以及其他OpenAI AI模型，计划开发功能创新的AI电视，涉及个性化内容推荐、对话式助手、实时翻译及定制娱乐等功能，例如用户可通过与电视语音交互，获取正在观看的演员或电影的详细信息以及类似节目的推荐。(jl/w)~\\n\\n阿思达克财经新闻\\n网址: www.aastocks.com \\n\\n(c) Copyright AAStocks.com Limited 2025', 'firstCreated': '2025-01-17T07:25:18.046Z', 'headline': '据报三星拟夥OpenAI开发AI电视', 'id': 'AAS9nYqS2_25011726Js2AS8Bdf/usz4aAiIRzBrAvhsuGqeQ6H/UI', 'instancesOf': [], 'language': 'zh', 'messageType': 2, 'mimeType': 'text/plain', 'provider': 'NS:AAFN', 'pubStatus': 'stat:usable', 'subjects': ['N2:LZH', 'N2:LZS'], 'takeSequence': 1, 'urgency': 3, 'versionCreated': '2025-01-17T07:25:18.046Z'}\n",
      "FRAGMENT length = 781\n",
      "decompress News FRAGMENT(s) for GUID AASM0j3B__2501172/aUyxQLe0KmlgGiIjdfFTvauzMiYv6TGrGu01\n",
      "News = {'altId': 'nAASM0j3B', 'audiences': ['NP:AASTKA'], 'body': '《韩联社》引述南韩高级公职人员犯罪调查处指，南韩总统尹锡悦周五(17日)早上未有响应要求到案，该处针对尹锡悦提请批捕的准备工作已基本就绪。\\n\\n报道引述该犯罪调查处的负责人指，尹锡悦并无提早通知不会到案。由於提捕时限为截至周五9时许，事实上难以再次传唤尹锡悦。负责人亦透露，提捕时间尚待确认，惟提捕准备工作基本完成。(js/k)\\n\\n~\\n\\n阿思达克财经新闻\\n网址: www.aastocks.com \\n\\n(c) Copyright AAStocks.com Limited 2025', 'firstCreated': '2025-01-17T07:25:18.056Z', 'headline': '尹锡悦今早未有到案 南韩公调处：基本完成提捕准备', 'id': 'AASM0j3B__2501172/aUyxQLe0KmlgGiIjdfFTvauzMiYv6TGrGu01', 'instancesOf': [], 'language': 'zh', 'messageType': 2, 'mimeType': 'text/plain', 'provider': 'NS:AAFN', 'pubStatus': 'stat:usable', 'subjects': ['N2:LZH', 'N2:LZS'], 'takeSequence': 1, 'urgency': 3, 'versionCreated': '2025-01-17T07:25:18.056Z'}\n",
      "FRAGMENT length = 625\n",
      "decompress News FRAGMENT(s) for GUID AAS8plwZt_2501172AexJTFHHyaboHGQ4g0btWytpJihP4jjSjbsQd\n",
      "News = {'altId': 'nAAS8plwZt', 'audiences': ['NP:AASTKA'], 'body': '~\\n\\n阿思达克财经新闻\\n网址: www.aastocks.com \\n\\n(c) Copyright AAStocks.com Limited 2025', 'firstCreated': '2025-01-17T07:25:18.059Z', 'headline': '*中金：长汽(02333.HK)业绩预告符合预期  评级「跑赢行业」', 'id': 'AAS8plwZt_2501172AexJTFHHyaboHGQ4g0btWytpJihP4jjSjbsQd', 'instancesOf': [], 'language': 'zh', 'messageType': 2, 'mimeType': 'text/plain', 'provider': 'NS:AAFN', 'pubStatus': 'stat:usable', 'subjects': ['B:1292', 'B:255', 'B:69', 'B:71', 'B:72', 'E:L', 'G:1', 'G:6', 'G:B1', 'G:K', 'G:S', 'M:1WJ', 'M:1WK', 'M:2DZ', 'M:Z', 'R:601633.SS', 'N2:ASIA', 'N2:ASXPAC', 'N2:AUTO', 'N2:CARM', 'N2:CARM1', 'N2:CMPNY', 'N2:CN', 'N2:CONPR', 'N2:CONPS', 'N2:CYCS', 'N2:CYCS08', 'N2:EASIA', 'N2:EMRG', 'N2:LZH', 'N2:LZS', 'N2:PUBL', 'N2:RCH', 'P:4295864422'], 'takeSequence': 1, 'urgency': 3, 'versionCreated': '2025-01-17T07:25:18.059Z'}\n",
      "FRAGMENT length = 944\n",
      "decompress News FRAGMENT(s) for GUID KjhSYj____2501172Uk/DYLSfrLvLTw3ydnic3dsHIzn6mg/K2ReB/\n",
      "News = {'altId': 'nKjhSYj', 'audiences': ['NP:KYDO', 'NP:KYO', 'NP:RJN'], 'body': '\\n\\u3000石破茂首相は１７日、茨城県内で２月から始まる水戸の梅まつりと筑波山梅まつりの関係者と官邸で面会した。「夜に見る梅もきれいなのだろう。世界中、日本中から観光客が訪れますように」と期待を示し、首相の名前入りのちょうちんや梅干しなどを受け取った。\\n\\n\\u3000首相は大阪・関西万博のＰＲのため、１７日からキャラクター「ミャクミャク」のピンバッジを着用していると紹介。「訪日外国人は万博に行ったらおしまいではなく、水戸市やつくば市も訪れてもらうことで、地方創生の一助にしたい」と語った。\\n\\n', 'firstCreated': '2025-01-17T07:25:19.118Z', 'headline': '首相、茨城梅まつりに期待\\u3000「世界中から観光客」', 'id': 'KjhSYj____2501172Uk/DYLSfrLvLTw3ydnic3dsHIzn6mg/K2ReB/', 'instancesOf': [], 'language': 'ja', 'messageType': 2, 'mimeType': 'text/plain', 'provider': 'NS:KYDO', 'pubStatus': 'stat:usable', 'subjects': ['G:41', 'G:6', 'G:K', 'G:S', 'M:1QD', 'M:1T', 'M:24', 'M:2CX', 'M:5S', 'M:E7', 'M:H', 'M:I4', 'M:N', 'M:W', 'N2:ASIA', 'N2:ASXPAC', 'N2:CLMB', 'N2:EASIA', 'N2:ENV', 'N2:GEN', 'N2:JP', 'N2:LIF', 'N2:LJA', 'N2:POL', 'N2:SOCI', 'N2:SPO', 'N2:TOUR'], 'takeSequence': 1, 'urgency': 3, 'versionCreated': '2025-01-17T07:25:19.118Z'}\n",
      "FRAGMENT length = 616\n",
      "decompress News FRAGMENT(s) for GUID HNu2rXqP1_2501172qYF26EcRaVSrSXgZ5mtTdmDG7WSuRtj7p224T\n",
      "News = {'altId': 'nHNu2rXqP1', 'audiences': ['NP:VICO'], 'body': '\\r\\n\\r\\n Double click on the URL below to view the .ZIP file\\r\\n\\r\\nhttps://newsfile.refinitiv.com/getnewsfile/v1/story?guid=urn:newsml:reuters.com:20250117:nHNu7ZKhSV\\n\\n\\r\\n', 'firstCreated': '2025-01-17T07:25:19.207Z', 'headline': 'UPC - SCD_20250117140418_Nghi quyet Hoi dong quan tri', 'id': 'HNu2rXqP1_2501172qYF26EcRaVSrSXgZ5mtTdmDG7WSuRtj7p224T', 'instancesOf': [], 'language': 'en', 'messageType': 2, 'mimeType': 'text/plain', 'provider': 'NS:UPC', 'pubStatus': 'stat:usable', 'subjects': ['A:1', 'B:106', 'B:107', 'B:108', 'B:111', 'B:1531', 'G:1', 'G:2EK', 'G:5Z', 'G:CI', 'G:K', 'G:N', 'G:S', 'M:1QD', 'M:1WJ', 'M:1WK', 'M:2CQ', 'M:2CX', 'M:2DZ', 'M:32', 'M:3H', 'M:Z', 'R:SCD.HNO', 'N2:ASEAN', 'N2:ASIA', 'N2:ASXPAC', 'N2:BEVS', 'N2:CMPNY', 'N2:CONPR', 'N2:CONPS', 'N2:EMRG', 'N2:FOBE', 'N2:INDCHI', 'N2:LEN', 'N2:NCYC', 'N2:NEWR', 'N2:PUBL', 'N2:REG', 'N2:SEASIA', 'N2:SFTBV', 'N2:SFTBV1', 'N2:STX', 'N2:VN', 'P:4297691505'], 'takeSequence': 1, 'urgency': 3, 'versionCreated': '2025-01-17T07:25:19.207Z'}\n",
      "FRAGMENT length = 925\n",
      "decompress News FRAGMENT(s) for GUID DJRbZ9Qrh_2501172XtEaAooo94mvagjrI4cAoNAzRAPy8z+V08UBB\n",
      "News = {'altId': 'nDJRbZ9Qrh', 'audiences': ['NP:CASEY1', 'NP:DJ', 'NP:DJF', 'NP:DJGE', 'NP:DJGM', 'NP:DJNGM', 'NP:DJNS', 'NP:DJT'], 'body': '\\nThe following is a press release from BSE:\\n\\nUnaudited Financial Results for the quarter and nine months ended December 31,\\n2024 along with Limited Review Report\\n\\nhttps://www.bseindia.com/stockinfo/AnnPdfOpen.aspx?Pname=2d39b078-36f7-4a7c-b039-fe50db9f60a6.pdf\\n\\nThis content was automatically published based on data and/or text from the\\noriginal source. For feedback, write to singaporeeditors@dowjones.com.\\n\\n\\n \\n\\n(END) Dow Jones Newswires\\n\\nJanuary 17, 2025 02:25 ET (07:25 GMT)\\n\\n', 'firstCreated': '2025-01-17T07:25:19.451Z', 'headline': 'DJ BSE: Ganesh Housing Corp. Ltd. - Unaudited Financial Results For The Quarter And Nine Months Ended December 31, 2024', 'id': 'DJRbZ9Qrh_2501172XtEaAooo94mvagjrI4cAoNAzRAPy8z+V08UBB', 'instancesOf': [], 'language': 'en', 'messageType': 2, 'mimeType': 'text/x-plain-fixed', 'provider': 'NS:DJN', 'pubStatus': 'stat:usable', 'subjects': ['B:125', 'B:141', 'B:143', 'B:1668', 'B:213', 'B:234', 'B:239', 'B:241', 'B:261', 'B:34', 'B:43', 'B:46', 'BL:32', 'G:1', 'G:5B', 'G:CH', 'G:K', 'G:S', 'M:1QD', 'M:1WN', 'M:2CM', 'M:2CN', 'M:2CP', 'M:2CQ', 'M:2CR', 'M:2CS', 'M:2CT', 'M:2CU', 'M:2CV', 'M:2CW', 'M:2CX', 'M:2CY', 'M:2CZ', 'M:2D0', 'M:2D1', 'M:2DZ', 'M:Z', 'R:GHFC.NS', 'N2:ASIA', 'N2:ASXPAC', 'N2:CMPNY', 'N2:COEN', 'N2:COEN08', 'N2:CON', 'N2:EMRG', 'N2:FINS', 'N2:FINS08', 'N2:IN', 'N2:INDS', 'N2:INDS08', 'N2:ISER', 'N2:ISER08', 'N2:LEN', 'N2:PUBL', 'N2:REAL', 'N2:REALE', 'N2:REALE1', 'N2:REOP', 'N2:SASIA', 'N2:SRVCS', 'P:4295873963'], 'takeSequence': 1, 'urgency': 3, 'versionCreated': '2025-01-17T07:25:19.451Z'}\n",
      "FRAGMENT length = 861\n",
      "decompress News FRAGMENT(s) for GUID DJR3xnD09_25011728YAeWBwt2ymomsTULRhNQDM6V7JNdaRuIwVp6\n",
      "News = {'altId': 'nDJR3xnD09', 'audiences': ['NP:CASEY1', 'NP:DJ', 'NP:DJF', 'NP:DJGE', 'NP:DJGM', 'NP:DJNGM', 'NP:DJNS', 'NP:DJT'], 'body': '\\nThe following is a press release from BSE:\\n\\nPls refer enclosed file\\n\\nhttps://www.bseindia.com/stockinfo/AnnPdfOpen.aspx?Pname=01c053cf-9e47-4951-bdd2-6874361fa320.pdf\\n\\nThis content was automatically published based on data and/or text from the\\noriginal source. For feedback, write to singaporeeditors@dowjones.com.\\n\\n\\n \\n\\n(END) Dow Jones Newswires\\n\\nJanuary 17, 2025 02:25 ET (07:25 GMT)\\n\\n', 'firstCreated': '2025-01-17T07:25:20.291Z', 'headline': 'DJ BSE: Swaraj Engines Ltd. - Board Meeting Outcome For Outcome Of The Board Meeting', 'id': 'DJR3xnD09_25011728YAeWBwt2ymomsTULRhNQDM6V7JNdaRuIwVp6', 'instancesOf': [], 'language': 'en', 'messageType': 2, 'mimeType': 'text/x-plain-fixed', 'provider': 'NS:DJN', 'pubStatus': 'stat:usable', 'subjects': ['B:1301', 'B:234', 'B:235', 'B:236', 'B:255', 'B:34', 'B:35', 'B:38', 'B:39', 'B:69', 'B:71', 'B:73', 'BL:37', 'BL:71', 'G:1', 'G:5B', 'G:CH', 'G:K', 'G:S', 'M:1QD', 'M:1WJ', 'M:1WK', 'M:2CM', 'M:2CN', 'M:2CP', 'M:2CQ', 'M:2CR', 'M:2CS', 'M:2CT', 'M:2CU', 'M:2CV', 'M:2CW', 'M:2CX', 'M:2CY', 'M:2CZ', 'M:2D0', 'M:2D1', 'M:2DZ', 'M:Z', 'R:SWAR.NS', 'N2:ASIA', 'N2:ASXPAC', 'N2:AUTO', 'N2:AUTPT', 'N2:AUTPWR', 'N2:CMPNY', 'N2:CONPR', 'N2:CONPS', 'N2:CYCS', 'N2:CYCS08', 'N2:EMRG', 'N2:IN', 'N2:IND', 'N2:INDG', 'N2:INDG08', 'N2:INDM', 'N2:INDS', 'N2:INDS08', 'N2:LEN', 'N2:MACH', 'N2:MACH08', 'N2:MUL', 'N2:PUBL', 'N2:SASIA', 'P:4295873972'], 'takeSequence': 1, 'urgency': 3, 'versionCreated': '2025-01-17T07:25:20.291Z'}\n",
      "FRAGMENT length = 2140\n",
      "decompress News FRAGMENT(s) for GUID DJR4YV3Z0_2501172YMQxf03/VCGdWFNYRx1RZApRw6l2OHMA8dUB+\n",
      "News = {'altId': 'nDJR4YV3Z0', 'audiences': ['NP:CASEY1', 'NP:DJ', 'NP:DJAN', 'NP:DJANZ', 'NP:DJC', 'NP:DJF', 'NP:DJGE', 'NP:DJGF', 'NP:DJGM', 'NP:DJNGM', 'NP:DJNS', 'NP:DJT'], 'body': '\\n\\n                                Latest    Change  %Change  %12/31 \\nNew York     DJ Indus         43153.13    -68.42    -0.16   +1.43     Close \\n             Nasdaq           19338.29   -172.94    -0.89   +0.14     Close \\n             NYSE Comp        19548.63    125.92     0.65   +2.36     Close \\n             S&P 500           5937.34    -12.57    -0.21   +0.95     Close \\n             Russell 2000      2266.79      3.50     0.15   +1.64     Close \\n             DJ TSM           59125.99    -60.69    -0.10   +1.24     Close \\nToronto      S&P/TSX          24846.20     56.90     0.23   +0.48     Close \\nLondon       FTSE 100          8391.90     90.77     1.09   +2.68     Close \\n             FTSE 250         20527.70    194.08     0.95   -0.46     Close \\nFrankfurt    Xetra DAX        20655.39     80.71     0.39   +3.75     Close \\nParis        CAC40             7634.74    160.15     2.14   +3.44     Close \\nTokyo        Nikkei Stock     38451.46   -121.14    -0.31   -3.62     Close \\n             Nikkei 300         575.94     -2.34    -0.40   -4.06     Close \\nHong Kong    Hang Seng        19572.40     49.51     0.25   -2.43  Intraday \\nSydney       S&P/ASX 200       8310.40    -16.60    -0.20   +1.85     Close \\n             All Ord           8557.40    -11.70    -0.14   +1.63     Close \\n \\nEurope       STOXX 600          520.05      5.03     0.98   +2.45     Close \\n             STOXX 50          4452.92     67.00     1.53   +3.35     Close \\n             EuroSTOXX50       5106.93     74.62     1.48   +4.31     Close \\nAmsterdam    AEX                907.66     13.72     1.53   +3.30     Close \\nAthens       ASE               1506.83      3.65     0.24   +2.53     Close \\nBrussels     BEL-20            4244.48      9.73     0.23   -0.47     Close \\nCopenhagen   OMXC20            2045.89    -11.00    -0.53   -2.69     Close \\nDublin       ISEQ              9592.69    -34.89    -0.36   -1.69     Close \\nHelsinki     OMX Helsinki      9678.57    -17.27    -0.18   +2.15     Close \\nIstanbul     IMKB-100          9864.44     -2.29    -0.02   +0.34     Close \\nJo-burg      All Share        83861.15    202.43     0.24   -0.28  Intraday \\nLisbon       PSI General       4198.78     13.22     0.32   +1.27     Close \\nMadrid       IBEX 35          11840.60    -57.90    -0.49   +2.12     Close \\nMilan        FTSE MIB         35819.79    172.83     0.48   +4.78     Close \\n             FTSE Italia      37986.89    198.11     0.52   +4.39     Close \\nOslo         OBX Stock         1402.51     -2.20    -0.16   +5.46     Close \\n             All-Share         1713.25     -9.13    -0.53   +4.16     Close \\nPrague       PX                1811.57      5.93     0.33   +2.92     Close \\nVienna       ATX               3725.56     -1.34    -0.04   +1.71     Close \\nZurich       Swiss Mkt        11942.00    160.26     1.36   +2.94     Close \\n \\nBangkok      SET               1349.03     -3.53    -0.26   -3.66  Intraday \\nMumbai       BSE Sensex       76731.84   -310.98    -0.40   -1.80  Intraday \\nJakarta      Composite         7166.45     58.93     0.83   +1.22  Intraday \\nKuala L      Composite         1562.65      7.11     0.46   -4.85  Intraday \\nManila       PSE               6352.12     86.60     1.38   -2.71     Close \\nSeoul        Kospi             2523.55     -3.94    -0.16   +5.17     Close \\nShanghai     Composite         3241.82      5.79     0.18   -3.28  Intraday \\n             A Share           3397.91      6.14     0.18   -3.29  Intraday \\n             B Share            260.77     -1.53    -0.58   -2.47  Intraday \\nShenzhen     A Share           2004.32      7.07     0.35   -2.11  Intraday \\n             B Share           1190.91     -3.93    -0.33   -1.82  Intraday \\nSingapore    Straits T         3809.31      8.18     0.22   +0.57  Intraday \\nTaipei       Weighted         23148.08    122.98     0.53   +0.49  Intraday \\nWellington   S&P/NZX 50       13130.43    129.76     1.00   +0.15     Close \\n \\nBuenos A     S&P MERVAL     2629377.02 -75096.80    -2.78   +3.78     Close \\nMexico C     S&P/BMV IPC      49948.15   -294.69    -0.59   +0.88     Close \\nSantiago     S&P IPSA          3744.08     31.00     0.83   +3.58     Close \\nSao Paulo    BOVESPA         121234.14  -1416.06    -1.15   +0.79     Close \\n \\n \\nData are delayed per exchange requirements, \\nexcept the Dow Jones Industrial Average \\nand the Dow Jones Total Stock Market. \\n \\nSource: FactSet \\n \\n\\n(END) Dow Jones Newswires\\n\\nJanuary 17, 2025 02:25 ET (07:25 GMT)\\n\\n', 'firstCreated': '2025-01-17T07:25:20.772Z', 'headline': 'DJ Global Stock Indexes at 02:25 EST/0725 GMT', 'id': 'DJR4YV3Z0_2501172YMQxf03/VCGdWFNYRx1RZApRw6l2OHMA8dUB+', 'instancesOf': [], 'language': 'en', 'messageType': 2, 'mimeType': 'text/x-plain-fixed', 'provider': 'NS:DJN', 'pubStatus': 'stat:usable', 'subjects': ['A:1', 'M:1QD', 'M:2CM', 'M:2CN', 'M:2CP', 'M:2CQ', 'M:2CR', 'M:2CS', 'M:2CT', 'M:2CU', 'M:2CV', 'M:2CW', 'M:2CX', 'M:2CY', 'M:2CZ', 'M:2D0', 'M:2D1', 'N2:LEN', 'N2:STX'], 'takeSequence': 1, 'urgency': 3, 'versionCreated': '2025-01-17T07:25:20.772Z'}\n"
     ]
    }
   ],
   "source": [
    "# Send request to server and open stream\n",
    "stream.open()\n",
    "# We should receive the initial Refresh for the current field values\n",
    "# followed by updates for the fields as and when they occur"
   ]
  },
  {
   "cell_type": "markdown",
   "metadata": {},
   "source": [
    "#### Close the stream and Session to stop subscription"
   ]
  },
  {
   "cell_type": "code",
   "execution_count": null,
   "metadata": {},
   "outputs": [],
   "source": [
    "try:\n",
    "    stream.close()\n",
    "    # Close the session\n",
    "    ld.close_session() \n",
    "except Exception as ex:\n",
    "    print(f'Error in close session: {str(ex)}')\n",
    " "
   ]
  },
  {
   "cell_type": "code",
   "execution_count": null,
   "metadata": {},
   "outputs": [],
   "source": []
  }
 ],
 "metadata": {
  "kernelspec": {
   "display_name": "mrn_notebook",
   "language": "python",
   "name": "python3"
  },
  "language_info": {
   "codemirror_mode": {
    "name": "ipython",
    "version": 3
   },
   "file_extension": ".py",
   "mimetype": "text/x-python",
   "name": "python",
   "nbconvert_exporter": "python",
   "pygments_lexer": "ipython3",
   "version": "3.11.5"
  }
 },
 "nbformat": 4,
 "nbformat_minor": 2
}
